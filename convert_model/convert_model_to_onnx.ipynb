{
 "cells": [
  {
   "cell_type": "markdown",
   "id": "425633d4",
   "metadata": {},
   "source": [
    "### Convert yolo to onnx format"
   ]
  },
  {
   "cell_type": "code",
   "execution_count": 3,
   "id": "65492f7d",
   "metadata": {},
   "outputs": [],
   "source": [
    "model_name = \"yolov8s.pt\"\n",
    "format = \"onnx\"\n",
    "imgsz=[480,640]"
   ]
  },
  {
   "cell_type": "code",
   "execution_count": 5,
   "id": "6e3e2cc3",
   "metadata": {},
   "outputs": [
    {
     "name": "stdout",
     "output_type": "stream",
     "text": [
      "Ultralytics 8.3.176 🚀 Python-3.9.23 torch-2.8.0+cu128 CPU (12th Gen Intel Core(TM) i7-12700)\n",
      "YOLOv8s summary (fused): 72 layers, 11,156,544 parameters, 0 gradients, 28.6 GFLOPs\n",
      "\n",
      "\u001b[34m\u001b[1mPyTorch:\u001b[0m starting from 'yolov8s.pt' with input shape (1, 3, 480, 640) BCHW and output shape(s) (1, 84, 6300) (21.5 MB)\n",
      "\n",
      "\u001b[34m\u001b[1mONNX:\u001b[0m starting export with onnx 1.17.0 opset 19...\n",
      "\u001b[34m\u001b[1mONNX:\u001b[0m slimming with onnxslim 0.1.64...\n",
      "\u001b[34m\u001b[1mONNX:\u001b[0m export success ✅ 1.0s, saved as 'yolov8s.onnx' (42.7 MB)\n",
      "\n",
      "Export complete (1.3s)\n",
      "Results saved to \u001b[1m/mnt/c/Users/minh.nhat/Desktop/MobifoneAI/ComputerVison/FaceID/notebooks\u001b[0m\n",
      "Predict:         yolo predict task=detect model=yolov8s.onnx imgsz=480,640  \n",
      "Validate:        yolo val task=detect model=yolov8s.onnx imgsz=480,640 data=coco.yaml  WARNING ⚠️ non-PyTorch val requires square images, 'imgsz=[480, 640]' will not work. Use export 'imgsz=640' if val is required.\n",
      "Visualize:       https://netron.app\n"
     ]
    },
    {
     "data": {
      "text/plain": [
       "'yolov8s.onnx'"
      ]
     },
     "execution_count": 5,
     "metadata": {},
     "output_type": "execute_result"
    }
   ],
   "source": [
    "from ultralytics import YOLO\n",
    "\n",
    "model = YOLO(model=model_name)\n",
    "model.export(format=format, imgsz=imgsz)"
   ]
  },
  {
   "cell_type": "code",
   "execution_count": 7,
   "id": "d9123068",
   "metadata": {},
   "outputs": [
    {
     "name": "stdout",
     "output_type": "stream",
     "text": [
      "bus.jpg\t\t\t     model_config.yml  yolov8s.pt\n",
      "convert_model_to_onnx.ipynb  yolov8s.onnx\n"
     ]
    }
   ],
   "source": [
    "!ls"
   ]
  },
  {
   "cell_type": "code",
   "execution_count": null,
   "id": "e80b3519",
   "metadata": {},
   "outputs": [
    {
     "name": "stdout",
     "output_type": "stream",
     "text": [
      "/bin/bash: line 1: powershell: command not found\n"
     ]
    }
   ],
   "source": []
  },
  {
   "cell_type": "markdown",
   "id": "c426d990",
   "metadata": {},
   "source": [
    "# Convert yolov8m.onnx to rknn:\n",
    "### Platform:\n",
    "##### torch: 2.4.0\n",
    "##### onnx: 1.18.0\n",
    "##### onnxruntime: 1.18.0\n",
    "##### rknn-toolkit2 version: 2.3.0"
   ]
  },
  {
   "cell_type": "code",
   "execution_count": 3,
   "id": "93a168ba",
   "metadata": {},
   "outputs": [
    {
     "name": "stdout",
     "output_type": "stream",
     "text": [
      "=========================================\n",
      "convert_model:\n",
      "  config_path=./model_config.yml\n",
      "  config_dir=/mnt/c/Users/minh.nhat/Desktop/MobifoneAI/ComputerVison/FaceID/notebooks\n",
      "  out_path=./\n",
      "  target_platform=rk3568\n",
      "=========================================\n",
      "models:\n",
      "    name: yolov8s          \n",
      "    platform: onnx               \n",
      "    model_file_path: ./yolov8s.onnx\n",
      "    quantize: true               \n",
      "    dataset: ./dataset.txt       \n",
      "    configs:\n",
      "      quantized_dtype: asymmetric_quantized-8 \n",
      "      mean_values: [0, 0, 0]      \n",
      "      std_values: [255, 255, 255]  \n",
      "      quant_img_RGB2BGR: false     \n",
      "      quantized_algorithm: normal  \n",
      "      quantized_method: channel    \n",
      "=========================================\n",
      "I rknn-toolkit2 version: 2.3.2\n",
      "mean_values:[0, 0, 0]\n",
      "std_values:[255, 255, 255]\n",
      "quant_img_RGB2BGR: False\n",
      "quantize: True\n",
      "quantized_dtype: asymmetric_quantized-8\n",
      "quantized_algorithm: normal\n",
      "target_platform: rk3568\n",
      "quantized_method: channel\n",
      "optimization_level: 3\n",
      "I Loading : 100%|██████████████████████████████████████████████| 144/144 [00:00<00:00, 12790.76it/s]\n",
      "I OpFusing 0: 100%|█████████████████████████████████████████████| 100/100 [00:00<00:00, 1588.91it/s]\n",
      "I OpFusing 1 : 100%|█████████████████████████████████████████████| 100/100 [00:00<00:00, 814.09it/s]\n",
      "I OpFusing 0 : 100%|█████████████████████████████████████████████| 100/100 [00:00<00:00, 489.55it/s]\n",
      "I OpFusing 1 : 100%|█████████████████████████████████████████████| 100/100 [00:00<00:00, 426.59it/s]\n",
      "I OpFusing 0 : 100%|█████████████████████████████████████████████| 100/100 [00:00<00:00, 395.59it/s]\n",
      "I OpFusing 1 : 100%|█████████████████████████████████████████████| 100/100 [00:00<00:00, 379.04it/s]\n",
      "I OpFusing 2 : 100%|█████████████████████████████████████████████| 100/100 [00:00<00:00, 151.38it/s]\n",
      "\u001b[1;33mW\u001b[0m \u001b[1;33mbuild: found outlier value, this may affect quantization accuracy\n",
      "                        const name               abs_mean    abs_std     outlier value\n",
      "                        model.0.conv.weight      4.03        4.41        26.039      \u001b[0m\n",
      "I GraphPreparing : 100%|███████████████████████████████████████| 176/176 [00:00<00:00, 20706.80it/s]\n",
      "I Quantizating : 100%|███████████████████████████████████████████| 176/176 [00:00<00:00, 456.98it/s]\n",
      "\u001b[1;33mW\u001b[0m \u001b[1;33mbuild: The default input dtype of 'images' is changed from 'float32' to 'int8' in rknn model for performance!\n",
      "                       Please take care of this change when deploy rknn model with Runtime API!\u001b[0m\n",
      "\u001b[1;33mW\u001b[0m \u001b[1;33mbuild: The default output dtype of 'output0' is changed from 'float32' to 'int8' in rknn model for performance!\n",
      "                      Please take care of this change when deploy rknn model with Runtime API!\u001b[0m\n",
      "I rknn building ...\n",
      "E RKNN: [10:17:14.083] Unkown op target: 0\n",
      "E RKNN: [10:17:14.084] Unkown op target: 0\n",
      "I rknn building done.\n",
      "output rknn path: ./yolov8s.rknn\n"
     ]
    }
   ],
   "source": [
    "!python -m rknn.api.rknn_convert -t rk3568 -i ./model_config.yml -o ./"
   ]
  },
  {
   "cell_type": "code",
   "execution_count": null,
   "id": "eea57359",
   "metadata": {},
   "outputs": [
    {
     "name": "stdout",
     "output_type": "stream",
     "text": [
      "bus.jpg\t\t\t     dataset.txt       yolov8s.onnx  yolov8s.rknn\n",
      "convert_model_to_onnx.ipynb  model_config.yml  yolov8s.pt\n"
     ]
    }
   ],
   "source": []
  },
  {
   "cell_type": "code",
   "execution_count": null,
   "id": "ed6ef02b",
   "metadata": {},
   "outputs": [],
   "source": []
  }
 ],
 "metadata": {
  "kernelspec": {
   "display_name": "natmin",
   "language": "python",
   "name": "python3"
  },
  "language_info": {
   "codemirror_mode": {
    "name": "ipython",
    "version": 3
   },
   "file_extension": ".py",
   "mimetype": "text/x-python",
   "name": "python",
   "nbconvert_exporter": "python",
   "pygments_lexer": "ipython3",
   "version": "3.11.13"
  }
 },
 "nbformat": 4,
 "nbformat_minor": 5
}
