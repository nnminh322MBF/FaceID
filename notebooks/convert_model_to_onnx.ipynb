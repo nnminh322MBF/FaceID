{
 "cells": [
  {
   "cell_type": "markdown",
   "id": "425633d4",
   "metadata": {},
   "source": [
    "### Convert yolo to onnx format"
   ]
  },
  {
   "cell_type": "code",
   "execution_count": 1,
   "id": "65492f7d",
   "metadata": {},
   "outputs": [],
   "source": [
    "model_name = \"yolov8m.pt\"\n",
    "format = \"onnx\"\n",
    "imgsz=[480,640]"
   ]
  },
  {
   "cell_type": "code",
   "execution_count": 6,
   "id": "6e3e2cc3",
   "metadata": {},
   "outputs": [
    {
     "name": "stdout",
     "output_type": "stream",
     "text": [
      "Downloading https://github.com/ultralytics/assets/releases/download/v8.3.0/yolov8m.pt to 'yolov8m.pt'...\n"
     ]
    },
    {
     "name": "stderr",
     "output_type": "stream",
     "text": [
      "100%|██████████| 49.7M/49.7M [00:02<00:00, 23.4MB/s]"
     ]
    },
    {
     "name": "stdout",
     "output_type": "stream",
     "text": [
      "Ultralytics 8.3.156  Python-3.11.13 torch-2.4.1+cpu CPU (12th Gen Intel Core(TM) i7-12700)\n"
     ]
    },
    {
     "name": "stderr",
     "output_type": "stream",
     "text": [
      "\n"
     ]
    },
    {
     "name": "stdout",
     "output_type": "stream",
     "text": [
      "YOLOv8m summary (fused): 92 layers, 25,886,080 parameters, 0 gradients, 78.9 GFLOPs\n",
      "\n",
      "\u001b[34m\u001b[1mPyTorch:\u001b[0m starting from 'yolov8m.pt' with input shape (1, 3, 480, 640) BCHW and output shape(s) (1, 84, 6300) (49.7 MB)\n",
      "\n",
      "\u001b[34m\u001b[1mONNX:\u001b[0m starting export with onnx 1.17.0 opset 19...\n",
      "\u001b[34m\u001b[1mONNX:\u001b[0m slimming with onnxslim 0.1.64...\n",
      "\u001b[34m\u001b[1mONNX:\u001b[0m export success  2.3s, saved as 'yolov8m.onnx' (98.9 MB)\n",
      "\n",
      "Export complete (3.0s)\n",
      "Results saved to \u001b[1mC:\\Users\\minh.nhat\\Desktop\\MobifoneAI\\ComputerVison\\FaceID\\notebooks\u001b[0m\n",
      "Predict:         yolo predict task=detect model=yolov8m.onnx imgsz=480,640  \n",
      "Validate:        yolo val task=detect model=yolov8m.onnx imgsz=480,640 data=coco.yaml  WARNING  non-PyTorch val requires square images, 'imgsz=[480, 640]' will not work. Use export 'imgsz=640' if val is required.\n",
      "Visualize:       https://netron.app\n"
     ]
    },
    {
     "data": {
      "text/plain": [
       "'yolov8m.onnx'"
      ]
     },
     "execution_count": 6,
     "metadata": {},
     "output_type": "execute_result"
    }
   ],
   "source": [
    "from ultralytics import YOLO\n",
    "\n",
    "model = YOLO(model=model_name)\n",
    "model.export(format=format, imgsz=imgsz)"
   ]
  },
  {
   "cell_type": "code",
   "execution_count": null,
   "id": "e80b3519",
   "metadata": {},
   "outputs": [],
   "source": [
    "# !powershell -Command \"Remove-Item -Force './yolov8m.pt'\"\n",
    "# !powershell -Command \"New-Item -ItemType Directory -Force '../models/onnx' | Out-Null; Move-Item './yolov8m.onnx' '../models/onnx/yolov8m.onnx' -Force\""
   ]
  },
  {
   "cell_type": "markdown",
   "id": "c426d990",
   "metadata": {},
   "source": [
    "# Convert yolov8m.onnx to rknn:\n",
    "### Platform:\n",
    "##### torch: 1.13.1+cu116\n",
    "##### onnx: 1.10.0\n",
    "##### onnxruntime: 1.10.0\n",
    "##### rknn-toolkit2 version: 1.5.0+1fa95b5c"
   ]
  },
  {
   "cell_type": "code",
   "execution_count": null,
   "id": "93a168ba",
   "metadata": {},
   "outputs": [],
   "source": []
  }
 ],
 "metadata": {
  "kernelspec": {
   "display_name": "natmin",
   "language": "python",
   "name": "python3"
  },
  "language_info": {
   "codemirror_mode": {
    "name": "ipython",
    "version": 3
   },
   "file_extension": ".py",
   "mimetype": "text/x-python",
   "name": "python",
   "nbconvert_exporter": "python",
   "pygments_lexer": "ipython3",
   "version": "3.11.13"
  }
 },
 "nbformat": 4,
 "nbformat_minor": 5
}
